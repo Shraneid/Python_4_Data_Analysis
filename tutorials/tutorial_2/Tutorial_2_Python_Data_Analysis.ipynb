{
  "nbformat": 4,
  "nbformat_minor": 0,
  "metadata": {
    "colab": {
      "name": "Tutorial_2_Python_Data_Analysis.ipynb",
      "provenance": [],
      "toc_visible": true,
      "authorship_tag": "ABX9TyNlD+B6q6rzIKQiZvdwFfKx",
      "include_colab_link": true
    },
    "kernelspec": {
      "name": "python3",
      "display_name": "Python 3"
    },
    "language_info": {
      "name": "python"
    }
  },
  "cells": [
    {
      "cell_type": "markdown",
      "metadata": {
        "id": "view-in-github",
        "colab_type": "text"
      },
      "source": [
        "<a href=\"https://colab.research.google.com/github/SushiFou/Python_4_Data_Analysis/blob/main/tutorials/tutorial_2/Tutorial_2_Python_Data_Analysis.ipynb\" target=\"_parent\"><img src=\"https://colab.research.google.com/assets/colab-badge.svg\" alt=\"Open In Colab\"/></a>"
      ]
    },
    {
      "cell_type": "markdown",
      "metadata": {
        "id": "CKRsHma6pTID"
      },
      "source": [
        "# Tutorial 2 - Python For Data Analysis 🐍 \n",
        "\n",
        "---\n",
        "\n",
        "## NumPy and Pandas 🐼"
      ]
    },
    {
      "cell_type": "markdown",
      "metadata": {
        "id": "i9d88aEwr_af"
      },
      "source": [
        "### *Table of Contents*\n",
        "\n",
        "- NumPy 🔎\n",
        "  - [Exercise 1](#exercise-1) : NumPy Initialization Arrays\n",
        "  - [Exercise 2](#exercise-2) : Mathematics operations\n",
        "  - [Exercise 3](#exercise-3) : I/O operations\n",
        "  - [Exercise 4](#Exercise-4) : Use Case : Mona Lisa\n",
        "- Pandas 🐼\n",
        "  - [Introduction](#intro)\n",
        "  - [Exercice 1](#exercise-5) : Explore Pandas DataFrame basic functions\n",
        "  - [Exercise 2](#exercise-6) : Explore traffic accidents vehicles"
      ]
    },
    {
      "cell_type": "markdown",
      "metadata": {
        "id": "27kDAkK5q22y"
      },
      "source": [
        "### Requirements"
      ]
    },
    {
      "cell_type": "code",
      "metadata": {
        "id": "oBPNmbG2pQ5T"
      },
      "source": [
        ""
      ],
      "execution_count": null,
      "outputs": []
    },
    {
      "cell_type": "markdown",
      "metadata": {
        "id": "KYH0IrzjrFpG"
      },
      "source": [
        "## NumPy 🔎"
      ]
    },
    {
      "cell_type": "markdown",
      "metadata": {
        "id": "BsJ94OV4q5Tp"
      },
      "source": [
        "<a name=\"exercise-1\">\n",
        "\n",
        "### Exercise 1 : NumPy Initialization Arrays\n",
        "---"
      ]
    },
    {
      "cell_type": "code",
      "metadata": {
        "id": "b2o94R3yr2b2"
      },
      "source": [
        ""
      ],
      "execution_count": null,
      "outputs": []
    },
    {
      "cell_type": "markdown",
      "metadata": {
        "id": "ghAupJtRq_py"
      },
      "source": [
        "<a name=\"exercise-2\">\n",
        "\n",
        "### Exercise 2 : Mathematics operations\n",
        "---"
      ]
    },
    {
      "cell_type": "code",
      "metadata": {
        "id": "ROg6z9ffr2LG"
      },
      "source": [
        ""
      ],
      "execution_count": null,
      "outputs": []
    },
    {
      "cell_type": "markdown",
      "metadata": {
        "id": "ijQJn4hfrAEo"
      },
      "source": [
        "<a name=\"exercise-3\">\n",
        "\n",
        "### Exercise 3 : I/O operations\n",
        "---"
      ]
    },
    {
      "cell_type": "code",
      "metadata": {
        "id": "TIdmxmE0r15B"
      },
      "source": [
        ""
      ],
      "execution_count": null,
      "outputs": []
    },
    {
      "cell_type": "markdown",
      "metadata": {
        "id": "dJouYZ3DrBLn"
      },
      "source": [
        "<a name=\"exercise-4\">\n",
        "\n",
        "### Exercise 4 : Use case : Mona Lisa\n",
        "---"
      ]
    },
    {
      "cell_type": "code",
      "metadata": {
        "id": "ev8WSNs7r1an"
      },
      "source": [
        ""
      ],
      "execution_count": null,
      "outputs": []
    },
    {
      "cell_type": "markdown",
      "metadata": {
        "id": "Z_VQxD6CrBwe"
      },
      "source": [
        "## Pandas 🐼"
      ]
    },
    {
      "cell_type": "markdown",
      "metadata": {
        "id": "Vn86J-Dlrjzj"
      },
      "source": [
        "<a name=\"intro\">\n",
        "\n",
        "### Introduction\n",
        "---"
      ]
    },
    {
      "cell_type": "markdown",
      "metadata": {
        "id": "IuXJpYdWr0kw"
      },
      "source": [
        ""
      ]
    },
    {
      "cell_type": "markdown",
      "metadata": {
        "id": "UDCwjVx2rkeM"
      },
      "source": [
        "<a name=\"exercise-5\">\n",
        "\n",
        "### Exercise 1 : Explore Pandas DataFrame basic functions\n",
        "---"
      ]
    },
    {
      "cell_type": "code",
      "metadata": {
        "id": "eN46yI-kr0Iz"
      },
      "source": [
        ""
      ],
      "execution_count": null,
      "outputs": []
    },
    {
      "cell_type": "markdown",
      "metadata": {
        "id": "ML64S4z7rk0j"
      },
      "source": [
        "<a name=\"exercise-6\">\n",
        "\n",
        "### Exercise 2 : Explore traffic accidents vehicles\n",
        "---"
      ]
    },
    {
      "cell_type": "code",
      "metadata": {
        "id": "nQ6dvHcWq4db"
      },
      "source": [
        ""
      ],
      "execution_count": null,
      "outputs": []
    }
  ]
}