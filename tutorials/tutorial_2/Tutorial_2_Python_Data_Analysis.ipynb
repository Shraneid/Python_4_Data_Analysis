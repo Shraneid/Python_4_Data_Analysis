{
  "nbformat": 4,
  "nbformat_minor": 0,
  "metadata": {
    "colab": {
      "name": "Tutorial_2_Python_Data_Analysis.ipynb",
      "provenance": [],
      "toc_visible": true,
      "authorship_tag": "ABX9TyNsK6qoX6P8DLK0dfoZDE+6",
      "include_colab_link": true
    },
    "kernelspec": {
      "name": "python3",
      "display_name": "Python 3"
    },
    "language_info": {
      "name": "python"
    }
  },
  "cells": [
    {
      "cell_type": "markdown",
      "metadata": {
        "id": "view-in-github",
        "colab_type": "text"
      },
      "source": [
        "<a href=\"https://colab.research.google.com/github/SushiFou/Python_4_Data_Analysis/blob/main/tutorials/tutorial_2/Tutorial_2_Python_Data_Analysis.ipynb\" target=\"_parent\"><img src=\"https://colab.research.google.com/assets/colab-badge.svg\" alt=\"Open In Colab\"/></a>"
      ]
    },
    {
      "cell_type": "markdown",
      "metadata": {
        "id": "CKRsHma6pTID"
      },
      "source": [
        "# Tutorial 2 - Python For Data Analysis 🐍 \n",
        "\n",
        "---\n",
        "\n",
        "## NumPy and Pandas 🐼"
      ]
    },
    {
      "cell_type": "markdown",
      "metadata": {
        "id": "i9d88aEwr_af"
      },
      "source": [
        "### *Table of Contents*\n",
        "\n",
        "- NumPy 🔎\n",
        "  - [Exercise 1](#exercise-1) : NumPy Initialization Arrays\n",
        "  - [Exercise 2](#exercise-2) : Mathematics operations\n",
        "  - [Exercise 3](#exercise-3) : I/O operations\n",
        "  - [Exercise 4](#Exercise-4) : Use Case : Mona Lisa\n",
        "- Pandas 🐼\n",
        "  - [Introduction](#intro)\n",
        "  - [Exercice 1](#exercise-5) : Explore Pandas DataFrame basic functions\n",
        "  - [Exercise 2](#exercise-6) : Explore traffic accidents vehicles"
      ]
    },
    {
      "cell_type": "markdown",
      "metadata": {
        "id": "27kDAkK5q22y"
      },
      "source": [
        "### Requirements"
      ]
    },
    {
      "cell_type": "code",
      "metadata": {
        "id": "oBPNmbG2pQ5T"
      },
      "source": [
        ""
      ],
      "execution_count": null,
      "outputs": []
    },
    {
      "cell_type": "markdown",
      "metadata": {
        "id": "KYH0IrzjrFpG"
      },
      "source": [
        "## NumPy 🔎"
      ]
    },
    {
      "cell_type": "markdown",
      "metadata": {
        "id": "BsJ94OV4q5Tp"
      },
      "source": [
        "<a name=\"exercise-1\">\n",
        "\n",
        "### Exercise 1 : NumPy Initialization Arrays\n",
        "---\n",
        "\n",
        "1) Use this line of code to create a NumPy array. Display its dimension and type. \n",
        "\n",
        "`np.array([[1,2,3],[4,5,6],[7,8,9]])`"
      ]
    },
    {
      "cell_type": "code",
      "metadata": {
        "id": "b2o94R3yr2b2"
      },
      "source": [
        ""
      ],
      "execution_count": null,
      "outputs": []
    },
    {
      "cell_type": "markdown",
      "metadata": {
        "id": "uzwb7tzEt6Ij"
      },
      "source": [
        "2) Create a 1-dimensional array of zeros "
      ]
    },
    {
      "cell_type": "code",
      "metadata": {
        "id": "o6DueFmnt3oV"
      },
      "source": [
        ""
      ],
      "execution_count": null,
      "outputs": []
    },
    {
      "cell_type": "markdown",
      "metadata": {
        "id": "AbW5R0ppt9BW"
      },
      "source": [
        "3) Create a 2-dimensional array of zeros and visualize its length using different functions. See its size, dimensions and types. "
      ]
    },
    {
      "cell_type": "code",
      "metadata": {
        "id": "jia_mQViuAJI"
      },
      "source": [
        ""
      ],
      "execution_count": null,
      "outputs": []
    },
    {
      "cell_type": "markdown",
      "metadata": {
        "id": "iYce9R3vuAdc"
      },
      "source": [
        "4) What are the \"zeros_like\" and \"empty\" functions for? Explain. "
      ]
    },
    {
      "cell_type": "markdown",
      "metadata": {
        "id": "VhCflsZluJIv"
      },
      "source": [
        "Answer : "
      ]
    },
    {
      "cell_type": "markdown",
      "metadata": {
        "id": "8223cZwHuJev"
      },
      "source": [
        "5) What are the `linespace` and `arange` functions for? Explain."
      ]
    },
    {
      "cell_type": "markdown",
      "metadata": {
        "id": "rENk-voouXk8"
      },
      "source": [
        "Answer : "
      ]
    },
    {
      "cell_type": "markdown",
      "metadata": {
        "id": "ZnlICwZTuaaM"
      },
      "source": [
        "6) Use the \"random\" function to create a 1D and 2Darray array. Check their dimensions using the functions seen previously. "
      ]
    },
    {
      "cell_type": "code",
      "metadata": {
        "id": "-xEpC56nuIpR"
      },
      "source": [
        ""
      ],
      "execution_count": null,
      "outputs": []
    },
    {
      "cell_type": "markdown",
      "metadata": {
        "id": "ghAupJtRq_py"
      },
      "source": [
        "<a name=\"exercise-2\">\n",
        "\n",
        "### Exercise 2 : Mathematics operations\n",
        "---\n",
        "\n",
        "1) Create a NumPy array, representing the sinus of another array. Do the same for cosines and logarithm. Save each result in a variable. "
      ]
    },
    {
      "cell_type": "code",
      "metadata": {
        "id": "ROg6z9ffr2LG"
      },
      "source": [
        ""
      ],
      "execution_count": null,
      "outputs": []
    },
    {
      "cell_type": "markdown",
      "metadata": {
        "id": "bZJ5LAO_ups1"
      },
      "source": [
        "2) Use sinus and cosine array, to compute those functions:\n",
        "\n",
        "- $f(x) = cos(x)sin(x) $\n",
        "- $f(x) = cos(x^2) - sin (x^2)$"
      ]
    },
    {
      "cell_type": "code",
      "metadata": {
        "id": "8H9BNuvGvJmV"
      },
      "source": [
        ""
      ],
      "execution_count": null,
      "outputs": []
    },
    {
      "cell_type": "markdown",
      "metadata": {
        "id": "nJ9Xs5_8vKAq"
      },
      "source": [
        "How about this one : \n",
        "\n",
        "- $sin(x)^2+cos(x)^2$\n"
      ]
    },
    {
      "cell_type": "code",
      "metadata": {
        "id": "ycjHMdjQ8wJ6"
      },
      "source": [
        ""
      ],
      "execution_count": null,
      "outputs": []
    },
    {
      "cell_type": "markdown",
      "metadata": {
        "id": "wVc9MRz28wZU"
      },
      "source": [
        "What are your remarks concerning the last one ?"
      ]
    },
    {
      "cell_type": "markdown",
      "metadata": {
        "id": "ersOqgYI82kw"
      },
      "source": [
        "Answer : "
      ]
    },
    {
      "cell_type": "markdown",
      "metadata": {
        "id": "_AHCwUrJ86fd"
      },
      "source": [
        "3) Add a constant $C= 1.5$ to every element of the sinus array."
      ]
    },
    {
      "cell_type": "code",
      "metadata": {
        "id": "MmhAmPs684q3"
      },
      "source": [
        ""
      ],
      "execution_count": null,
      "outputs": []
    },
    {
      "cell_type": "markdown",
      "metadata": {
        "id": "zyw-uQKa9CQS"
      },
      "source": [
        "4) Explore the `dot` and `@` functions. What are they used for ?"
      ]
    },
    {
      "cell_type": "code",
      "metadata": {
        "id": "uXcgWV1x9NvB"
      },
      "source": [
        ""
      ],
      "execution_count": null,
      "outputs": []
    },
    {
      "cell_type": "markdown",
      "metadata": {
        "id": "d3VT992P9O1J"
      },
      "source": [
        "Answer : "
      ]
    },
    {
      "cell_type": "markdown",
      "metadata": {
        "id": "ijQJn4hfrAEo"
      },
      "source": [
        "<a name=\"exercise-3\">\n",
        "\n",
        "### Exercise 3 : I/O operations\n",
        "---\n",
        "1) Create a random multi-dimensional array (or use one that has already been created) and save it as a text file. Now, save this array as a NumPy object (.npy extension)"
      ]
    },
    {
      "cell_type": "code",
      "metadata": {
        "id": "TIdmxmE0r15B"
      },
      "source": [
        ""
      ],
      "execution_count": null,
      "outputs": []
    },
    {
      "cell_type": "markdown",
      "metadata": {
        "id": "3TmMWagL9Uyl"
      },
      "source": [
        "2) Read those files again using the `open()` function."
      ]
    },
    {
      "cell_type": "code",
      "metadata": {
        "id": "fkxWF_I39mMW"
      },
      "source": [
        ""
      ],
      "execution_count": null,
      "outputs": []
    },
    {
      "cell_type": "markdown",
      "metadata": {
        "id": "Ig0Q7FPE9miw"
      },
      "source": [
        "3) Try to read it again, using NumPy function `loadtxt`. Explain the difference between them."
      ]
    },
    {
      "cell_type": "code",
      "metadata": {
        "id": "QrxRkT-89uyj"
      },
      "source": [
        ""
      ],
      "execution_count": null,
      "outputs": []
    },
    {
      "cell_type": "markdown",
      "metadata": {
        "id": "dJouYZ3DrBLn"
      },
      "source": [
        "<a name=\"exercise-4\">\n",
        "\n",
        "### Exercise 4 : Use case : Mona Lisa\n",
        "---"
      ]
    },
    {
      "cell_type": "markdown",
      "metadata": {
        "id": "hAnUCT4o9xq8"
      },
      "source": [
        "#### *Loading Mona Lisa Data*"
      ]
    },
    {
      "cell_type": "markdown",
      "metadata": {
        "id": "UfB7Yk0T949X"
      },
      "source": [
        "1) Load `monalisa.txt` file as a NumPy array and explore it. (Dimensions, values, types, etc.)"
      ]
    },
    {
      "cell_type": "code",
      "metadata": {
        "id": "ev8WSNs7r1an"
      },
      "source": [
        ""
      ],
      "execution_count": null,
      "outputs": []
    },
    {
      "cell_type": "markdown",
      "metadata": {
        "id": "YcaIzCcq-aV3"
      },
      "source": [
        "2) Show the portrait of the Mona Lisa. To do this import matplotlib using this command:\n",
        "\n",
        "`import matplotlib.pyplot as plt`\n",
        "\n",
        "Then use the `imshow` command to display it: `plt.imshow(monalisa)`"
      ]
    },
    {
      "cell_type": "code",
      "metadata": {
        "id": "aVXzv1e7-3cT"
      },
      "source": [
        ""
      ],
      "execution_count": null,
      "outputs": []
    },
    {
      "cell_type": "markdown",
      "metadata": {
        "id": "GORXfvjE-4Cl"
      },
      "source": [
        "3) Use the `cmap` parameter to display it in black & white."
      ]
    },
    {
      "cell_type": "code",
      "metadata": {
        "id": "Tk8zArfk_EeV"
      },
      "source": [
        ""
      ],
      "execution_count": null,
      "outputs": []
    },
    {
      "cell_type": "markdown",
      "metadata": {
        "id": "er7UZUbT_E0M"
      },
      "source": [
        "4) Load `monalisa.npy` file as a NumPy array, display it and explore it. (Dimensions, values, types, etc.) Why do you think the second photo is better?"
      ]
    },
    {
      "cell_type": "code",
      "metadata": {
        "id": "1XT9pR61_Psf"
      },
      "source": [
        ""
      ],
      "execution_count": null,
      "outputs": []
    },
    {
      "cell_type": "markdown",
      "metadata": {
        "id": "xNruOIRG_R2g"
      },
      "source": [
        "#### Slicing - Using monalisa.npy\n",
        "\n",
        "5) Crop the Image to show only Mona Lisa's head."
      ]
    },
    {
      "cell_type": "code",
      "metadata": {
        "id": "vi2cIiz7_bK1"
      },
      "source": [
        ""
      ],
      "execution_count": null,
      "outputs": []
    },
    {
      "cell_type": "markdown",
      "metadata": {
        "id": "CGFLQUnA_bdh"
      },
      "source": [
        "6) Pixelize Mona Lisa's image on 3 different levels, and explain the result."
      ]
    },
    {
      "cell_type": "code",
      "metadata": {
        "id": "TgN3Np_L_g9-"
      },
      "source": [
        ""
      ],
      "execution_count": null,
      "outputs": []
    },
    {
      "cell_type": "markdown",
      "metadata": {
        "id": "w3L1SsZF_hbv"
      },
      "source": [
        "7) Rotate the Mona Lisa by 90°"
      ]
    },
    {
      "cell_type": "code",
      "metadata": {
        "id": "OJGdIfNM_lJ2"
      },
      "source": [
        ""
      ],
      "execution_count": null,
      "outputs": []
    },
    {
      "cell_type": "markdown",
      "metadata": {
        "id": "s8hulI7K_lcY"
      },
      "source": [
        "8) Display the reflection of the Mona Lisa"
      ]
    },
    {
      "cell_type": "code",
      "metadata": {
        "id": "5M0wsE3z_o0Y"
      },
      "source": [
        ""
      ],
      "execution_count": null,
      "outputs": []
    },
    {
      "cell_type": "markdown",
      "metadata": {
        "id": "iTffFuln_pNi"
      },
      "source": [
        "9) Hide Mona Lisa's face using a white box. Replace the white box with a randomly generated box."
      ]
    },
    {
      "cell_type": "code",
      "metadata": {
        "id": "h_ZuFU-q_ydj"
      },
      "source": [
        ""
      ],
      "execution_count": null,
      "outputs": []
    },
    {
      "cell_type": "markdown",
      "metadata": {
        "id": "o5ckRWwk_2Mc"
      },
      "source": [
        "#### Transformation - Use of the monalisa.txt file\n",
        "\n",
        "10) Create a filter on the image to have a Darker Mona Lisa."
      ]
    },
    {
      "cell_type": "code",
      "metadata": {
        "id": "xhNN_LtEAAp-"
      },
      "source": [
        ""
      ],
      "execution_count": null,
      "outputs": []
    },
    {
      "cell_type": "markdown",
      "metadata": {
        "id": "DPHluIffABM3"
      },
      "source": [
        "11) Create a vertical gradient from right to left allowing the image to be darker on the left."
      ]
    },
    {
      "cell_type": "code",
      "metadata": {
        "id": "iJj139mGAIm0"
      },
      "source": [
        ""
      ],
      "execution_count": null,
      "outputs": []
    },
    {
      "cell_type": "markdown",
      "metadata": {
        "id": "fekPEbBLAIz7"
      },
      "source": [
        "12) Create a horizontal gradient that will make the Mona Lisa darker on top."
      ]
    },
    {
      "cell_type": "code",
      "metadata": {
        "id": "rYUrY5tFAOWT"
      },
      "source": [
        ""
      ],
      "execution_count": null,
      "outputs": []
    },
    {
      "cell_type": "markdown",
      "metadata": {
        "id": "Z_VQxD6CrBwe"
      },
      "source": [
        "## Pandas 🐼"
      ]
    },
    {
      "cell_type": "markdown",
      "metadata": {
        "id": "Vn86J-Dlrjzj"
      },
      "source": [
        "<a name=\"intro\">\n",
        "\n",
        "### Introduction - Traffic Accidents Database\n",
        "---"
      ]
    },
    {
      "cell_type": "markdown",
      "metadata": {
        "id": "IuXJpYdWr0kw"
      },
      "source": [
        "https://www.data.gouv.fr/fr/datasets/base-de-donnees-accidents-corporels-de-la-circulation/\n",
        "\n",
        "For each personal injury accident, information describing the accident is entered by the law enforcement unit that intervened at the scene of the accident. These seizures are brought together in a sheet called the personal accident analysis report. All of these files constitute the national file of traffic accidents known as the \"BAAC File\" administered by the National Intermenstrual Road Safety Observatory \"ONISR\".\n",
        "\n",
        "The databases, extracted from the BAAC file, list all of the bodily injury accidents occurring during a specific year in mainland France, in the overseas departments (Guadeloupe, Guyana, Martinique, Réunion and Mayotte since 2012) and in the other overseas territories (Saint-Pierre- et-Miquelon, Saint-Barthélemy, Saint-Martin, Wallis-et-Futuna, French Polynesia and New Caledonia; available only from 2019 in open data) with a simplified description. This includes accident location information, as entered as well as information regarding the characteristics of the accident and its location, the vehicles involved and their victims.\n",
        "\n",
        "The databases from 2005 to 2019 are now annual and made up of 4 files (Characteristics - Locations - Vehicles - Users) in csv format.\n",
        "\n",
        "Links to databases:\n",
        "- https://www.data.gouv.fr/fr/datasets/r/be2191a6-a7cd-446f-a9fc-8d698688eb9e \n",
        "- https://www.data.gouv.fr/fr/datasets/r/e4c6f4fe-7c68-4a1d-9bb6-b0f1f5d45526 \n",
        "- https://www.data.gouv.fr/fr/datasets/r/08b77510-39c4-4761-bf02-19457264790f \n",
        "- https://www.data.gouv.fr/fr/datasets/r/96aadc9f-0b55-4e9a-a70e-c627ed97e6f7\n",
        "   \n",
        "SETUP : We’ll use vehicles database. \n",
        "\n",
        "Import the data using pandas library.`pd.read_csv(url)`"
      ]
    },
    {
      "cell_type": "markdown",
      "metadata": {
        "id": "UDCwjVx2rkeM"
      },
      "source": [
        "<a name=\"exercise-5\">\n",
        "\n",
        "### Exercise 1 : Explore Pandas DataFrame basic functions\n",
        "---"
      ]
    },
    {
      "cell_type": "code",
      "metadata": {
        "id": "eN46yI-kr0Iz"
      },
      "source": [
        ""
      ],
      "execution_count": null,
      "outputs": []
    },
    {
      "cell_type": "markdown",
      "metadata": {
        "id": "ML64S4z7rk0j"
      },
      "source": [
        "<a name=\"exercise-6\">\n",
        "\n",
        "### Exercise 2 : Explore traffic accidents vehicles\n",
        "---"
      ]
    },
    {
      "cell_type": "code",
      "metadata": {
        "id": "nQ6dvHcWq4db"
      },
      "source": [
        ""
      ],
      "execution_count": null,
      "outputs": []
    },
    {
      "cell_type": "markdown",
      "metadata": {
        "id": "ddV-Im_XtZGy"
      },
      "source": [
        "## Good job, you've completed your second tutorial ! 👏"
      ]
    }
  ]
}